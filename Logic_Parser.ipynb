{
  "nbformat": 4,
  "nbformat_minor": 0,
  "metadata": {
    "colab": {
      "provenance": []
    },
    "kernelspec": {
      "name": "python3",
      "display_name": "Python 3"
    },
    "language_info": {
      "name": "python"
    }
  },
  "cells": [
    {
      "cell_type": "code",
      "source": [
        "import re\n",
        "\n",
        "def is_well_formed(expression):\n",
        "    \"\"\"\n",
        "    Check if the expression is a well-formed sentential logic expression.\n",
        "    \"\"\"\n",
        "    # Remove all whitespace except line breaks\n",
        "    expression = expression.replace(\" \", \"\").replace(\"\\t\", \"\")\n",
        "\n",
        "    # Define the regex pattern for well-formed expressions\n",
        "    # Atomic sentences: single capital letter\n",
        "    atomic_pattern = re.compile(r'^[A-Z]$')\n",
        "\n",
        "    # Complex sentences: combinations of atomic sentences with logical connectives and proper bracketing\n",
        "    complex_pattern = re.compile(r'^([A-Z]|\\([^()]+\\))([\\~∧∨→]([A-Z]|\\([^()]+\\)))*$')\n",
        "\n",
        "    # Check if the expression matches either atomic or complex patterns\n",
        "    if atomic_pattern.match(expression):\n",
        "        return True, expression  # Return True and the atomic sentence\n",
        "    elif complex_pattern.match(expression):\n",
        "        return True, get_main_connective(expression)  # Return True and the main connective\n",
        "    else:\n",
        "        return False, None  # Return False if not well-formed\n",
        "\n",
        "def get_main_connective(expression):\n",
        "    \"\"\"\n",
        "    Extract the main connective from a well-formed complex sentence.\n",
        "    \"\"\"\n",
        "    # Remove outer parentheses if they exist\n",
        "    if expression[0] == '(' and expression[-1] == ')':\n",
        "        expression = expression[1:-1]\n",
        "\n",
        "    # Find the main connective (the one not inside parentheses)\n",
        "    stack = 0\n",
        "    for i, char in enumerate(expression):\n",
        "        if char == '(':\n",
        "            stack += 1\n",
        "        elif char == ')':\n",
        "            stack -= 1\n",
        "        elif stack == 0 and char in {'~', '∧', '∨', '→'}:\n",
        "            return char\n",
        "    return '∅'  # Default if no connective is found (should not happen for well-formed expressions)\n",
        "\n",
        "def process_file(input_file, output_file):\n",
        "    \"\"\"\n",
        "    Process the input file and write the results to the output file.\n",
        "    \"\"\"\n",
        "    with open(input_file, 'r', encoding='utf-8') as infile, open(output_file, 'w', encoding='utf-8') as outfile:\n",
        "        for line in infile:\n",
        "            line = line.strip()  # Remove leading/trailing whitespace\n",
        "            if not line:\n",
        "                continue  # Skip empty lines\n",
        "\n",
        "            well_formed, result = is_well_formed(line)\n",
        "            if not well_formed:\n",
        "                outfile.write('∅')\n",
        "            else:\n",
        "                outfile.write(result)\n",
        "\n",
        "# Example usage\n",
        "input_file = 'input.txt'\n",
        "output_file = 'output.txt'\n",
        "process_file(input_file, output_file)"
      ],
      "metadata": {
        "id": "a3dV6Bq7UWjf"
      },
      "execution_count": null,
      "outputs": []
    }
  ]
}